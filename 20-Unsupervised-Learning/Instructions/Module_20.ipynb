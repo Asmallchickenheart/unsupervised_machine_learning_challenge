{
 "cells": [
  {
   "cell_type": "code",
   "execution_count": 44,
   "metadata": {
    "collapsed": true,
    "pycharm": {
     "name": "#%%\n"
    }
   },
   "outputs": [],
   "source": [
    "import pandas as pd\n",
    "from sklearn.preprocessing import StandardScaler\n",
    "import matplotlib.pyplot as plt\n",
    "import numpy as np\n",
    "from sklearn.cluster import KMeans\n",
    "from sklearn.model_selection import train_test_split\n",
    "from pathlib import Path\n",
    "from sklearn.datasets import load_iris"
   ]
  },
  {
   "cell_type": "code",
   "execution_count": 45,
   "metadata": {
    "pycharm": {
     "name": "#%%\n"
    }
   },
   "outputs": [
    {
     "data": {
      "text/plain": "   AGE  SPHEQ         AL    ACD     LT    VCD  SPORTHR  READHR  COMPHR  \\\n0    6 -0.052  21.889999  3.690  3.498  14.70       45       8       0   \n1    6  0.608  22.379999  3.702  3.392  15.29        4       0       1   \n2    6  1.179  22.490000  3.462  3.514  15.52       14       0       2   \n3    6  0.525  22.200001  3.862  3.612  14.73       18      11       0   \n4    5  0.697  23.290001  3.676  3.454  16.16       14       0       0   \n\n   STUDYHR  TVHR  DIOPTERHR  MOMMY  DADMY  MYOPIC  \n0        0    10         34      1      1       1  \n1        1     7         12      1      1       0  \n2        0    10         14      0      0       0  \n3        0     4         37      0      1       1  \n4        0     4          4      1      0       0  ",
      "text/html": "<div>\n<style scoped>\n    .dataframe tbody tr th:only-of-type {\n        vertical-align: middle;\n    }\n\n    .dataframe tbody tr th {\n        vertical-align: top;\n    }\n\n    .dataframe thead th {\n        text-align: right;\n    }\n</style>\n<table border=\"1\" class=\"dataframe\">\n  <thead>\n    <tr style=\"text-align: right;\">\n      <th></th>\n      <th>AGE</th>\n      <th>SPHEQ</th>\n      <th>AL</th>\n      <th>ACD</th>\n      <th>LT</th>\n      <th>VCD</th>\n      <th>SPORTHR</th>\n      <th>READHR</th>\n      <th>COMPHR</th>\n      <th>STUDYHR</th>\n      <th>TVHR</th>\n      <th>DIOPTERHR</th>\n      <th>MOMMY</th>\n      <th>DADMY</th>\n      <th>MYOPIC</th>\n    </tr>\n  </thead>\n  <tbody>\n    <tr>\n      <th>0</th>\n      <td>6</td>\n      <td>-0.052</td>\n      <td>21.889999</td>\n      <td>3.690</td>\n      <td>3.498</td>\n      <td>14.70</td>\n      <td>45</td>\n      <td>8</td>\n      <td>0</td>\n      <td>0</td>\n      <td>10</td>\n      <td>34</td>\n      <td>1</td>\n      <td>1</td>\n      <td>1</td>\n    </tr>\n    <tr>\n      <th>1</th>\n      <td>6</td>\n      <td>0.608</td>\n      <td>22.379999</td>\n      <td>3.702</td>\n      <td>3.392</td>\n      <td>15.29</td>\n      <td>4</td>\n      <td>0</td>\n      <td>1</td>\n      <td>1</td>\n      <td>7</td>\n      <td>12</td>\n      <td>1</td>\n      <td>1</td>\n      <td>0</td>\n    </tr>\n    <tr>\n      <th>2</th>\n      <td>6</td>\n      <td>1.179</td>\n      <td>22.490000</td>\n      <td>3.462</td>\n      <td>3.514</td>\n      <td>15.52</td>\n      <td>14</td>\n      <td>0</td>\n      <td>2</td>\n      <td>0</td>\n      <td>10</td>\n      <td>14</td>\n      <td>0</td>\n      <td>0</td>\n      <td>0</td>\n    </tr>\n    <tr>\n      <th>3</th>\n      <td>6</td>\n      <td>0.525</td>\n      <td>22.200001</td>\n      <td>3.862</td>\n      <td>3.612</td>\n      <td>14.73</td>\n      <td>18</td>\n      <td>11</td>\n      <td>0</td>\n      <td>0</td>\n      <td>4</td>\n      <td>37</td>\n      <td>0</td>\n      <td>1</td>\n      <td>1</td>\n    </tr>\n    <tr>\n      <th>4</th>\n      <td>5</td>\n      <td>0.697</td>\n      <td>23.290001</td>\n      <td>3.676</td>\n      <td>3.454</td>\n      <td>16.16</td>\n      <td>14</td>\n      <td>0</td>\n      <td>0</td>\n      <td>0</td>\n      <td>4</td>\n      <td>4</td>\n      <td>1</td>\n      <td>0</td>\n      <td>0</td>\n    </tr>\n  </tbody>\n</table>\n</div>"
     },
     "execution_count": 45,
     "metadata": {},
     "output_type": "execute_result"
    }
   ],
   "source": [
    "# Read CSV file\n",
    "df = pd.read_csv('myopia.csv')\n",
    "df.head()"
   ]
  },
  {
   "cell_type": "code",
   "execution_count": 46,
   "metadata": {
    "pycharm": {
     "name": "#%%\n"
    }
   },
   "outputs": [],
   "source": [
    "# drop the column 'MYOPIC'\n",
    "X = df.drop('MYOPIC', axis=1)\n",
    "y = df['MYOPIC'].values\n"
   ]
  },
  {
   "cell_type": "code",
   "execution_count": 47,
   "metadata": {
    "pycharm": {
     "name": "#%%\n"
    }
   },
   "outputs": [],
   "source": [
    "# Split the data into training and testing sets\n",
    "X_train, X_test, y_train, y_test = train_test_split(X, y, test_size=0.2, random_state=42)"
   ]
  },
  {
   "cell_type": "code",
   "execution_count": 48,
   "metadata": {
    "pycharm": {
     "name": "#%%\n"
    }
   },
   "outputs": [
    {
     "data": {
      "text/plain": "array([-0.43962696,  0.49383529, -0.00946716,  1.11947422, -0.8776419 ,\n       -0.18528509, -0.26986031, -0.90634417, -0.66175638, -0.67299709,\n        1.05710814, -0.69016288, -1.02045201,  0.99595958])"
     },
     "execution_count": 48,
     "metadata": {},
     "output_type": "execute_result"
    }
   ],
   "source": [
    "# Standardize the data\n",
    "scaler = StandardScaler()\n",
    "# Train the scaler on the training set\n",
    "X_scaled = scaler.fit_transform(X_train)\n",
    "X_scaled[0]"
   ]
  },
  {
   "cell_type": "code",
   "execution_count": 49,
   "metadata": {
    "pycharm": {
     "name": "#%%\n"
    }
   },
   "outputs": [],
   "source": []
  },
  {
   "cell_type": "markdown",
   "source": [
    "# Apply Dimensionality Reduction"
   ],
   "metadata": {
    "collapsed": false,
    "pycharm": {
     "name": "#%% md\n"
    }
   }
  },
  {
   "cell_type": "code",
   "execution_count": 49,
   "outputs": [],
   "source": [],
   "metadata": {
    "collapsed": false,
    "pycharm": {
     "name": "#%%\n"
    }
   }
  }
 ],
 "metadata": {
  "kernelspec": {
   "display_name": "Python 3 (ipykernel)",
   "language": "python",
   "name": "python3"
  },
  "language_info": {
   "codemirror_mode": {
    "name": "ipython",
    "version": 3
   },
   "file_extension": ".py",
   "mimetype": "text/x-python",
   "name": "python",
   "nbconvert_exporter": "python",
   "pygments_lexer": "ipython3",
   "version": "3.9.7"
  }
 },
 "nbformat": 4,
 "nbformat_minor": 1
}